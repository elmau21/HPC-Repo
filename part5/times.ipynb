{
 "cells": [
  {
   "cell_type": "code",
   "execution_count": 32,
   "id": "29d78d1e",
   "metadata": {},
   "outputs": [
    {
     "name": "stdout",
     "output_type": "stream",
     "text": [
      "13.311614132999239\n"
     ]
    }
   ],
   "source": [
    "import numpy as np\n",
    "import timeit\n",
    "\n",
    "def update(lattice):\n",
    "    box_length = len(lattice) - 2\n",
    "    lattice_new = [[0 for _ in range(box_length + 2)] for _ in range(box_length + 2)]\n",
    "    \n",
    "    for i in range(1, box_length + 1):\n",
    "        for j in range(1, box_length + 1):\n",
    "            lattice_new[i][j] = update_rule(lattice, i, j)\n",
    "    return lattice_new\n",
    "\n",
    "def update_rule(lattice, i, j):\n",
    "    n_neigh = lattice[i + 1][j] + lattice[i][j + 1] + lattice[i + 1][j + 1] + \\\n",
    "              lattice[i - 1][j] + lattice[i][j - 1] + lattice[i - 1][j - 1] + \\\n",
    "              lattice[i - 1][j + 1] + lattice[i + 1][j - 1]\n",
    "    \n",
    "    if (lattice[i][j] == 1) and (n_neigh in [2, 3]):\n",
    "        return 1\n",
    "    elif lattice[i][j] == 1:\n",
    "        return 0\n",
    "    elif (lattice[i][j] == 0) and (n_neigh == 3):\n",
    "        return 1\n",
    "    else:\n",
    "        return 0\n",
    "\n",
    "\n",
    "#mide el timepo de ejecucion cuando el box size es 300\n",
    "\n",
    "def main():\n",
    "    box_length = 300\n",
    "    lattice = np.random.randint(2, size=(box_length + 2, box_length + 2))\n",
    "    for _ in range(300):\n",
    "        lattice = update(lattice)\n",
    "    return lattice\n",
    "\n",
    "if __name__ == '__main__':\n",
    "    print(timeit.timeit(main, number=1))\n",
    "\n",
    "\n",
    "\n",
    "import csv\n",
    "with open('time.csv', mode='a') as file:\n",
    "    writer = csv.writer(file)\n",
    "    writer.writerow(['python', timeit.timeit(main, number=1)])"
   ]
  },
  {
   "cell_type": "code",
   "execution_count": 33,
   "id": "d7316204",
   "metadata": {},
   "outputs": [
    {
     "name": "stdout",
     "output_type": "stream",
     "text": [
      "Requirement already satisfied: cython in /home/javier/.conda/envs/UPY/lib/python3.8/site-packages (3.0.9)\n",
      "The Cython extension is already loaded. To reload it, use:\n",
      "  %reload_ext Cython\n"
     ]
    }
   ],
   "source": [
    "!pip install cython\n",
    "%load_ext Cython"
   ]
  },
  {
   "cell_type": "markdown",
   "id": "f56db1f2",
   "metadata": {},
   "source": [
   
   ]
  },
  {
   "cell_type": "code",
   "execution_count": 34,
   "id": "825913bb",
   "metadata": {},
   "outputs": [
    {
     "name": "stdout",
     "output_type": "stream",
     "text": [
      "Overwriting setup.py\n"
     ]
    }
   ],
   "source": [
    "%%writefile setup.py\n",
    "from distutils.core import setup\n",
    "from Cython.Build import cythonize\n",
    "\n",
    "setup(\n",
    "    ext_modules=cythonize([\n",
    "        \n",
    "        \"cython1.pyx\",  # Añade tus archivos .pyx aquí\n",
    "        \"cython2.pyx\",\n",
    "        \"cython3.pyx\",\n",
    "        \"cython4.pyx\",\n",
    "    ]),\n",
    ")"
   ]
  },
  {
   "cell_type": "code",
   "execution_count": 35,
   "id": "bb07d65a",
   "metadata": {},
   "outputs": [],
   "source": [
    "!python setup.py build_ext --inplace"
   ]
  },
  {
   "cell_type": "code",
   "execution_count": 36,
   "id": "10aa976e",
   "metadata": {},
   "outputs": [
    {
     "name": "stdout",
     "output_type": "stream",
     "text": [
      "5.943676938999488\n"
     ]
    }
   ],
   "source": [
    "from cython1 import update as update_cython1\n",
    "\n",
    "def main():\n",
    "    box_length = 300\n",
    "    lattice = np.random.randint(2, size=(box_length + 2, box_length + 2))\n",
    "    for _ in range(300):\n",
    "        lattice = update_cython1(lattice)\n",
    "    return lattice\n",
    "\n",
    "\n",
    "if __name__ == '__main__':\n",
    "    print(timeit.timeit(main, number=1))\n",
    "    \n",
    "    \n",
    "#agregar el time en el archivo csv con el nombre de cython1\n",
    "\n",
    "import csv\n",
    "with open('time.csv', mode='a') as file:\n",
    "    writer = csv.writer(file)\n",
    "    writer.writerow(['cython1', timeit.timeit(main, number=1)])"
   ]
  },
  {
   "cell_type": "code",
   "execution_count": 37,
   "id": "04d70055",
   "metadata": {},
   "outputs": [
    {
     "name": "stdout",
     "output_type": "stream",
     "text": [
      "2.9767842090004706\n"
     ]
    }
   ],
   "source": [
    "\n",
    "\n",
    "from cython2 import update as update_cython2\n",
    "\n",
    "\n",
    "import numpy as np\n",
    "import timeit\n",
    "\n",
    "def main():\n",
    "    box_length = 300\n",
    "    lattice = np.random.randint(2, size=(box_length + 2, box_length + 2))\n",
    "    for _ in range(300):\n",
    "        lattice = update_cython2(lattice)\n",
    "    return lattice\n",
    "\n",
    "if __name__ == '__main__':\n",
    "    print(timeit.timeit(main, number=1))\n",
    "    \n",
    "    \n",
    "import csv\n",
    "with open('time.csv', mode='a') as file:\n",
    "    writer = csv.writer(file)\n",
    "    writer.writerow(['cython2', timeit.timeit(main, number=1)])"
   ]
  },
  {
   "cell_type": "code",
   "execution_count": 38,
   "id": "2697e4cc",
   "metadata": {},
   "outputs": [
    {
     "name": "stdout",
     "output_type": "stream",
     "text": [
      "2.546062860999882\n"
     ]
    }
   ],
   "source": [
    "from cython3 import update as update_cython3\n",
    "\n",
    "import numpy as np\n",
    "import timeit\n",
    "\n",
    "def main():\n",
    "    box_length = 300\n",
    "    lattice = np.random.randint(2, size=(box_length + 2, box_length + 2))\n",
    "    for _ in range(300):\n",
    "        lattice = update_cython3(lattice)\n",
    "    return lattice\n",
    "\n",
    "if __name__ == '__main__':\n",
    "    print(timeit.timeit(main, number=1))\n",
    "    \n",
    "    \n",
    "import csv\n",
    "with open('time.csv', mode='a') as file:\n",
    "    writer = csv.writer(file)\n",
    "    writer.writerow(['cython3', timeit.timeit(main, number=1)])"
   ]
  },
  {
   "cell_type": "code",
   "execution_count": 39,
   "id": "a399b610",
   "metadata": {},
   "outputs": [
    {
     "name": "stdout",
     "output_type": "stream",
     "text": [
      "2.413097718001154\n"
     ]
    }
   ],
   "source": [
    "from cython4 import update as update_cython4\n",
    "\n",
    "def main():\n",
    "    box_length = 300\n",
    "    lattice = np.random.randint(2, size=(box_length + 2, box_length + 2))\n",
    "    for _ in range(300):\n",
    "        lattice = update_cython4(lattice)\n",
    "    return lattice\n",
    "    \n",
    "    \n",
    "if __name__ == '__main__':\n",
    "    print(timeit.timeit(main, number=1))\n",
    "    \n",
    "import csv\n",
    "with open('time.csv', mode='a') as file:\n",
    "    writer = csv.writer(file)\n",
    "    writer.writerow(['cython4', timeit.timeit(main, number=1)])\n",
    "    "
   ]
  },
  {
   "cell_type": "code",
   "execution_count": 40,
   "id": "e27d63e0",
   "metadata": {},
   "outputs": [
    {
     "data": {
      "image/png": "[encoded data removed]",
      "text/plain": [
       "<Figure size 1000x600 with 1 Axes>"
      ]
     },
     "metadata": {},
     "output_type": "display_data"
    }
   ],
   "source": [
    "\n",
    "import pandas as pd\n",
    "\n",
    "\n",
    "data = pd.read_csv('time.csv')\n",
    "\n",
    "\n",
    "import matplotlib.pyplot as plt\n",
    "\n",
    "\n",
    "labels = data.iloc[:, 0].tolist()\n",
    "labels.insert(0, 'python') \n",
    "times = data.iloc[:, 1].tolist()\n",
    "times.insert(0, 13.096366302000206)  \n",
    "\n",
    "# Creando la gráfica de barras\n",
    "plt.figure(figsize=(10, 6))\n",
    "plt.bar(labels, times, color='skyblue')\n",
    "plt.title('Comparación de Tiempos de Ejecución')\n",
    "plt.xlabel('Implementación')\n",
    "plt.ylabel('Tiempo (s)')\n",
    "plt.xticks(rotation=45)\n",
    "plt.tight_layout()\n",
    "\n",
    "# Mostrando la gráfica\n",
    "plt.show()\n"
   ]
  }
 ],
 "metadata": {
  "kernelspec": {
   "display_name": "UPY",
   "language": "python",
   "name": "python3"
  },
  "language_info": {
   "codemirror_mode": {
    "name": "ipython",
    "version": 3
   },
   "file_extension": ".py",
   "mimetype": "text/x-python",
   "name": "python",
   "nbconvert_exporter": "python",
   "pygments_lexer": "ipython3",
   "version": "3.8.18"
  }
 },
 "nbformat": 4,
 "nbformat_minor": 5
}
